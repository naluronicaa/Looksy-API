{
 "cells": [
  {
   "cell_type": "code",
   "execution_count": 3,
   "id": "bd84356c",
   "metadata": {},
   "outputs": [
    {
     "name": "stdout",
     "output_type": "stream",
     "text": [
      "Banco de dados completo criado com sucesso!\n"
     ]
    }
   ],
   "source": [
    "import sqlite3\n",
    "\n",
    "conn = sqlite3.connect('looksy.db')\n",
    "cursor = conn.cursor()\n",
    "\n",
    "# Usuários\n",
    "cursor.execute('''\n",
    "CREATE TABLE IF NOT EXISTS usuarios (\n",
    "    id INTEGER PRIMARY KEY AUTOINCREMENT,\n",
    "    nome TEXT NOT NULL,\n",
    "    email TEXT UNIQUE NOT NULL,\n",
    "    senha TEXT NOT NULL\n",
    ")\n",
    "''')\n",
    "\n",
    "# Peças\n",
    "cursor.execute('''\n",
    "CREATE TABLE IF NOT EXISTS roupas (\n",
    "    id INTEGER PRIMARY KEY AUTOINCREMENT,\n",
    "    usuario_id INTEGER,\n",
    "    foto_uri TEXT,\n",
    "    categoria TEXT,\n",
    "    subtipo TEXT,\n",
    "    descricao TEXT,\n",
    "    data_criacao TIMESTAMP DEFAULT CURRENT_TIMESTAMP,\n",
    "    FOREIGN KEY(usuario_id) REFERENCES usuarios(id)\n",
    ")\n",
    "''')\n",
    "\n",
    "# Usos das peças (relacionamento N:N simplificado)\n",
    "cursor.execute('''\n",
    "CREATE TABLE IF NOT EXISTS usos_roupa (\n",
    "    id INTEGER PRIMARY KEY AUTOINCREMENT,\n",
    "    roupa_id INTEGER,\n",
    "    uso TEXT,\n",
    "    FOREIGN KEY(roupa_id) REFERENCES roupas(id)\n",
    ")\n",
    "''')\n",
    "\n",
    "# Questionário\n",
    "cursor.execute('''\n",
    "CREATE TABLE IF NOT EXISTS questionario (\n",
    "    id INTEGER PRIMARY KEY AUTOINCREMENT,\n",
    "    usuario_id INTEGER UNIQUE,\n",
    "    pergunta1 TEXT,\n",
    "    pergunta2 TEXT,\n",
    "    pergunta3 TEXT,\n",
    "    pergunta4 TEXT,\n",
    "    pergunta5 TEXT,\n",
    "    pergunta6 TEXT,\n",
    "    pergunta7 TEXT,\n",
    "    pergunta8 TEXT,\n",
    "    pergunta9 TEXT,\n",
    "    pergunta10 TEXT\n",
    ");\n",
    "\n",
    "''')\n",
    "\n",
    "conn.commit()\n",
    "conn.close()\n",
    "\n",
    "print('Banco de dados completo criado com sucesso!')"
   ]
  }
 ],
 "metadata": {
  "kernelspec": {
   "display_name": "Python 3",
   "language": "python",
   "name": "python3"
  },
  "language_info": {
   "codemirror_mode": {
    "name": "ipython",
    "version": 3
   },
   "file_extension": ".py",
   "mimetype": "text/x-python",
   "name": "python",
   "nbconvert_exporter": "python",
   "pygments_lexer": "ipython3",
   "version": "3.11.9"
  }
 },
 "nbformat": 4,
 "nbformat_minor": 5
}
